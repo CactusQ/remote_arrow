{
 "cells": [
  {
   "cell_type": "markdown",
   "metadata": {},
   "source": [
    "# Tutorial - Remote Arrow\n",
    "\n",
    "This notebook serves as an interactive tutorial (and documentation) to **Remote Arrow**.\n",
    "More broadly it introduces you to **Apache Arrow**, specifically pyArrow and **Apache Arrow Flight**.\n",
    "\n",
    "**Apache Arrow** is a language-independent columnar memory format for flat and hierarchical data. <br>\n",
    "\n",
    "**Apache Arrow Flight** is a framework for high-speed transmission of Apache Arrow Tables over a network.  <br>\n",
    "It achieves that by eliminating the overhead for (de)serialization of the data, as well as allowing parallel down and uploads of data chunks.<br>\n",
    "\n",
    "**RemoteArrow** is a custom-framework built on top of Apache Arrow Flight and aims to solve the problem of redundancy <br>\n",
    "and performance bottlenecks when handling shared and large dataset by outsourcing them to a centralized remote server. <br>\n",
    "In other words, it tries to reduce the cost of data transmission, query, computation and storage of shared data for big data / ML applications. <br>\n",
    "\n",
    "\n",
    "You can learn more by reading through the README and sources listed below:\n",
    "#### Sources:\n",
    "\n",
    "1. [Apache Arrow](https://arrow.apache.org/ \"Apache Arrow\")\n",
    "2. [Introducing Apache Arrow Flight](https://arrow.apache.org/blog/2019/10/13/introducing-arrow-flight/ \"Introducing Apache Arrow Flight\") \n",
    "3. [Apache Arrow Flight API](https://arrow.apache.org/docs/format/Flight.html \"Apache Arrow Flight API\") \n",
    "4. [Benchmarking Apache Arrow Flight (Tanveer Ahmad, Zaid Al Ars and H. Peter Hofstee)](https://arxiv.org/pdf/2204.03032.pdf) \n"
   ]
  },
  {
   "cell_type": "markdown",
   "metadata": {},
   "source": [
    "## Starting the server\n",
    "Remote Arrow uses a centralized server in order to handle datasets and exposes a set of commands for uploads, downloads, queries to all clients in the network. <br>\n",
    "The API is built on top of gRPC and language agnostic. That is, you can develop clients in any language <br>\n",
    "or through any application as long as it follows the **Apache Arrow Flight API** [4]. <br>\n",
    "\n",
    "In this tutorial, we are going to use Python to demonstrate the client and server interactions.\n",
    "Let's start the server."
   ]
  },
  {
   "cell_type": "code",
   "execution_count": 7,
   "metadata": {},
   "outputs": [
    {
     "name": "stdout",
     "output_type": "stream",
     "text": [
      "<_io.TextIOWrapper name='server.py' mode='w' encoding='UTF-8'>\n"
     ]
    }
   ],
   "source": [
    "from subprocess import call \n",
    "call(['python3', 'server.py'])"
   ]
  },
  {
   "cell_type": "markdown",
   "metadata": {},
   "source": [
    "The server is running in the background (at localhost:5005) as long as the notebook is active.\n",
    "Of course, you can also run it in a separate terminal if you want to read the console output or change the host and port:\n",
    "\n",
    "`python3 server --host <HOST> --port <PORT>`\n",
    "\n",
    "For now, let's connect a client to the server and upload a local file:"
   ]
  },
  {
   "cell_type": "code",
   "execution_count": 10,
   "metadata": {},
   "outputs": [
    {
     "name": "stdout",
     "output_type": "stream",
     "text": [
      "No file path given. Connect to one of the available flights:\n",
      "\n",
      "===== Flights======\n",
      "[ID]\t[TYPE]\t[DESCRIPTION]\n"
     ]
    },
    {
     "ename": "FlightUnavailableError",
     "evalue": "Flight returned unavailable error, with message: failed to connect to all addresses",
     "output_type": "error",
     "traceback": [
      "\u001b[0;31m---------------------------------------------------------------------------\u001b[0m",
      "\u001b[0;31mFlightUnavailableError\u001b[0m                    Traceback (most recent call last)",
      "Cell \u001b[0;32mIn [10], line 4\u001b[0m\n\u001b[1;32m      1\u001b[0m \u001b[38;5;28;01mfrom\u001b[39;00m \u001b[38;5;21;01mRemoteArrow\u001b[39;00m \u001b[38;5;28;01mimport\u001b[39;00m RemoteDataset\n\u001b[1;32m      2\u001b[0m \u001b[38;5;28;01mimport\u001b[39;00m \u001b[38;5;21;01mpyarrow\u001b[39;00m \u001b[38;5;28;01mas\u001b[39;00m \u001b[38;5;21;01mpa\u001b[39;00m\n\u001b[0;32m----> 4\u001b[0m client_A \u001b[38;5;241m=\u001b[39m \u001b[43mRemoteDataset\u001b[49m\u001b[43m(\u001b[49m\u001b[43m)\u001b[49m\n",
      "File \u001b[0;32m~/RemoteArrow.py:24\u001b[0m, in \u001b[0;36mRemoteDataset.__init__\u001b[0;34m(self, filepath, hostname)\u001b[0m\n\u001b[1;32m     22\u001b[0m \u001b[38;5;28;01mif\u001b[39;00m \u001b[38;5;129;01mnot\u001b[39;00m filepath:\n\u001b[1;32m     23\u001b[0m     \u001b[38;5;28mprint\u001b[39m(\u001b[38;5;124mf\u001b[39m\u001b[38;5;124m\"\u001b[39m\u001b[38;5;124mNo file path given. Connect to one of the available flights:\u001b[39m\u001b[38;5;124m\"\u001b[39m)\n\u001b[0;32m---> 24\u001b[0m     \u001b[38;5;28;43mself\u001b[39;49m\u001b[38;5;241;43m.\u001b[39;49m\u001b[43mlist_flights\u001b[49m\u001b[43m(\u001b[49m\u001b[43m)\u001b[49m\n\u001b[1;32m     26\u001b[0m \u001b[38;5;28;01melse\u001b[39;00m:\n\u001b[1;32m     27\u001b[0m     filename, fileext \u001b[38;5;241m=\u001b[39m os\u001b[38;5;241m.\u001b[39mpath\u001b[38;5;241m.\u001b[39mbasename(filepath)\u001b[38;5;241m.\u001b[39msplit(\u001b[38;5;124m'\u001b[39m\u001b[38;5;124m.\u001b[39m\u001b[38;5;124m'\u001b[39m)\n",
      "File \u001b[0;32m~/RemoteArrow.py:88\u001b[0m, in \u001b[0;36mRemoteDataset.list_flights\u001b[0;34m(self)\u001b[0m\n\u001b[1;32m     85\u001b[0m \u001b[38;5;28mprint\u001b[39m(\u001b[38;5;124m'\u001b[39m\u001b[38;5;130;01m\\n\u001b[39;00m\u001b[38;5;124m===== Flights======\u001b[39m\u001b[38;5;124m'\u001b[39m)\n\u001b[1;32m     86\u001b[0m \u001b[38;5;28mprint\u001b[39m(\u001b[38;5;124m\"\u001b[39m\u001b[38;5;124m[ID]\u001b[39m\u001b[38;5;130;01m\\t\u001b[39;00m\u001b[38;5;124m[TYPE]\u001b[39m\u001b[38;5;130;01m\\t\u001b[39;00m\u001b[38;5;124m[DESCRIPTION]\u001b[39m\u001b[38;5;124m\"\u001b[39m)\n\u001b[0;32m---> 88\u001b[0m \u001b[38;5;28;01mfor\u001b[39;00m \u001b[38;5;28mid\u001b[39m, flight \u001b[38;5;129;01min\u001b[39;00m \u001b[38;5;28menumerate\u001b[39m(\u001b[38;5;28mself\u001b[39m\u001b[38;5;241m.\u001b[39mclient\u001b[38;5;241m.\u001b[39mlist_flights()):\n\u001b[1;32m     89\u001b[0m     descriptor \u001b[38;5;241m=\u001b[39m flight\u001b[38;5;241m.\u001b[39mdescriptor\n\u001b[1;32m     90\u001b[0m     \u001b[38;5;28;01mif\u001b[39;00m descriptor\u001b[38;5;241m.\u001b[39mdescriptor_type \u001b[38;5;241m==\u001b[39m paf\u001b[38;5;241m.\u001b[39mDescriptorType\u001b[38;5;241m.\u001b[39mPATH:\n",
      "File \u001b[0;32m/opt/conda/lib/python3.10/site-packages/pyarrow/_flight.pyx:1376\u001b[0m, in \u001b[0;36mlist_flights\u001b[0;34m()\u001b[0m\n",
      "File \u001b[0;32m/opt/conda/lib/python3.10/site-packages/pyarrow/_flight.pyx:1380\u001b[0m, in \u001b[0;36mpyarrow._flight.FlightClient.list_flights\u001b[0;34m()\u001b[0m\n",
      "File \u001b[0;32m/opt/conda/lib/python3.10/site-packages/pyarrow/_flight.pyx:71\u001b[0m, in \u001b[0;36mpyarrow._flight.check_flight_status\u001b[0;34m()\u001b[0m\n",
      "\u001b[0;31mFlightUnavailableError\u001b[0m: Flight returned unavailable error, with message: failed to connect to all addresses"
     ]
    }
   ],
   "source": [
    "from RemoteArrow import RemoteDataset\n",
    "import pyarrow as pa\n",
    "\n",
    "client_A = RemoteDataset()"
   ]
  }
 ],
 "metadata": {
  "interpreter": {
   "hash": "aee8b7b246df8f9039afb4144a1f6fd8d2ca17a180786b69acc140d282b71a49"
  },
  "kernelspec": {
   "display_name": "Python 3 (ipykernel)",
   "language": "python",
   "name": "python3"
  },
  "language_info": {
   "codemirror_mode": {
    "name": "ipython",
    "version": 3
   },
   "file_extension": ".py",
   "mimetype": "text/x-python",
   "name": "python",
   "nbconvert_exporter": "python",
   "pygments_lexer": "ipython3",
   "version": "3.10.8"
  }
 },
 "nbformat": 4,
 "nbformat_minor": 4
}
