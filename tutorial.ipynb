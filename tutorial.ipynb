{
 "cells": [
  {
   "cell_type": "markdown",
   "metadata": {},
   "source": [
    "# Tutorial - Remote Arrow\n",
    "\n",
    "This notebook serves as an interactive tutorial (and documentation) to **Remote Arrow**.\n",
    "More broadly it introduces you to **Apache Arrow**, specifically pyArrow and **Apache Arrow Flight**.\n",
    "\n",
    "**Apache Arrow** is a language-independent columnar memory format for flat and hierarchical data. <br>\n",
    "\n",
    "**Apache Arrow Flight** is a framework for high-speed transmission of Apache Arrow Tables over a network.  <br>\n",
    "It achieves that by eliminating the overhead for (de)serialization of the data, as well as allowing parallel down and uploads of data chunks.<br>\n",
    "\n",
    "**RemoteArrow** is a custom-framework built on top of Apache Arrow Flight and aims to solve the problem of redundancy <br>\n",
    "and performance bottlenecks when handling shared and large dataset by outsourcing them to a centralized remote server. <br>\n",
    "In other words, it tries to reduce the cost of data transmission, query, computation and storage of shared data for big data / ML applications. <br>\n",
    "\n",
    "\n",
    "You can learn more by reading through the README and sources listed below:\n",
    "#### Sources:\n",
    "\n",
    "1. [Apache Arrow](https://arrow.apache.org/ \"Apache Arrow\")\n",
    "2. [Introducing Apache Arrow Flight](https://arrow.apache.org/blog/2019/10/13/introducing-arrow-flight/ \"Introducing Apache Arrow Flight\") \n",
    "3. [Apache Arrow Flight API](https://arrow.apache.org/docs/format/Flight.html \"Apache Arrow Flight API\") \n",
    "4. [Benchmarking Apache Arrow Flight (Tanveer Ahmad, Zaid Al Ars and H. Peter Hofstee)](https://arxiv.org/pdf/2204.03032.pdf) \n"
   ]
  },
  {
   "cell_type": "markdown",
   "metadata": {},
   "source": [
    "## Arrow Table\n",
    "Let's take a look at **the Arrow Table** format by loading a CSV file:"
   ]
  },
  {
   "cell_type": "code",
   "execution_count": null,
   "metadata": {},
   "outputs": [],
   "source": [
    "import pyarrow as pa\n",
    "import pyarrow.csv as csv\n",
    "\n",
    "table = csv.read_csv('hawaii_covid.csv')\n",
    "print(table.schema)"
   ]
  },
  {
   "cell_type": "markdown",
   "metadata": {},
   "source": [
    "Arrow Tables support a variety of common functions for handling tabular data, such as **join**, **sort_by**, **group_by**, **drop**, **select** or **take**:"
   ]
  },
  {
   "cell_type": "code",
   "execution_count": null,
   "metadata": {},
   "outputs": [],
   "source": [
    "table.select([5]) # Get column at index 5"
   ]
  },
  {
   "cell_type": "code",
   "execution_count": null,
   "metadata": {},
   "outputs": [],
   "source": [
    "table.num_rows"
   ]
  },
  {
   "cell_type": "markdown",
   "metadata": {},
   "source": [
    "If you're familiar with **pandas** and/or **SQL** it may come to you as a relieve that **Arrow Table** provides similar methods and APIs. <br>\n",
    "Also you can always, convert Arrow Tables into pandas dataframes."
   ]
  },
  {
   "cell_type": "code",
   "execution_count": null,
   "metadata": {},
   "outputs": [],
   "source": [
    "table.take([0, 1, 2]).to_pandas() # Get row 0, 1, and 2 and conver to pandas df"
   ]
  },
  {
   "cell_type": "markdown",
   "metadata": {},
   "source": [
    "So far, the data and queries have only been handled locally. <br> \n",
    "Let's see how we can make them accessible to other clients."
   ]
  },
  {
   "cell_type": "markdown",
   "metadata": {},
   "source": [
    "## Starting the server\n",
    "Remote Arrow uses a centralized server in order to handle datasets and exposes a set of commands for uploads, downloads, queries to all clients in the network. <br>\n",
    "The API is built on top of gRPC and language agnostic. That is, you can develop clients in any language <br>\n",
    "or through any application as long as it follows the **Apache Arrow Flight API** [4]. <br>\n",
    "\n",
    "In this tutorial, we are going to use Python to demonstrate the client and server interactions.\n",
    "Let's start the server."
   ]
  },
  {
   "cell_type": "code",
   "execution_count": null,
   "metadata": {},
   "outputs": [],
   "source": [
    "import subprocess\n",
    "import time\n",
    "\n",
    "SERVER_IP = \"localhost\"\n",
    "SERVER_PORT = \"5005\"\n",
    "\n",
    "server_process = subprocess.Popen([\"python3\",\"server.py\",\"--host\", SERVER_IP,\"--port\", SERVER_PORT])\n",
    "pid = server_process.pid\n",
    "time.sleep(2) # Wait for server to boot before running other cells"
   ]
  },
  {
   "cell_type": "markdown",
   "metadata": {},
   "source": [
    "The server is running in the background (at localhost:5005) as long as the notebook is active. <br>\n",
    "Of course, you can also run it in a separate terminal if you want to read the console output or change the host and port:\n",
    "\n",
    "`python3 server --host <HOST> --port <PORT>`\n",
    "\n",
    "For now, let's connect a client to the server and upload a local file:"
   ]
  },
  {
   "cell_type": "code",
   "execution_count": null,
   "metadata": {},
   "outputs": [],
   "source": [
    "from RemoteArrow import RemoteDataset\n",
    "client_A = RemoteDataset(\"hawaii_covid.csv\", hostname=SERVER_IP+\":\"+SERVER_PORT)"
   ]
  },
  {
   "cell_type": "markdown",
   "metadata": {},
   "source": [
    "Here, we have instantiated a **RemoteDataset** object with path to the local CSV file. <br>\n",
    "Under the hood, our object (**client_A**) converted that file into an **Arrow Table** and uploaded it to the server.\n",
    "\n",
    "The dataset now resides on the server and is available to all clients as a **Flight** with **ID 0**. <br>"
   ]
  },
  {
   "cell_type": "code",
   "execution_count": null,
   "metadata": {},
   "outputs": [],
   "source": [
    "client_A.list_flights()"
   ]
  },
  {
   "cell_type": "markdown",
   "metadata": {},
   "source": [
    "You will also find that the server has stored that file in the */datasets* subdirectory in **.parquet** format. <br>\n",
    "\n",
    "Instantiating **client_A** as a **RemoteDataset** also overrides the **Arrow Table methods** with corresponding RPC calls to our server. <br>\n",
    "In other words, calling methods like **take**, or **select** as above, will not locally compute the query, but command the server to do the query for us, and return the result."
   ]
  },
  {
   "cell_type": "code",
   "execution_count": null,
   "metadata": {},
   "outputs": [],
   "source": [
    "query_result = client_A.take([0,1,2]) # Will be executed on the server\n",
    "query_result.to_pandas()"
   ]
  },
  {
   "cell_type": "code",
   "execution_count": null,
   "metadata": {},
   "outputs": [],
   "source": [
    "# Query results are made available as new Flights\n",
    "client_A.list_flights()"
   ]
  },
  {
   "cell_type": "markdown",
   "metadata": {},
   "source": [
    "Now, let's pretend to be another client (**client_B**) and connect to one of the flights."
   ]
  },
  {
   "cell_type": "code",
   "execution_count": null,
   "metadata": {},
   "outputs": [],
   "source": [
    "client_B = RemoteDataset()"
   ]
  },
  {
   "cell_type": "code",
   "execution_count": null,
   "metadata": {},
   "outputs": [],
   "source": [
    "client_B.inspect(0)\n",
    "client_B.connect(0)"
   ]
  },
  {
   "cell_type": "code",
   "execution_count": null,
   "metadata": {},
   "outputs": [],
   "source": [
    "client_B.take([0,1,2,3,4,5]).to_pandas()"
   ]
  },
  {
   "cell_type": "markdown",
   "metadata": {},
   "source": [
    "Note that, **client_B** can now query against the original dataset (**hawaii_covid**) without downloading it. <br>\n",
    "If we wanted to do so, we can use **fetch()**."
   ]
  },
  {
   "cell_type": "code",
   "execution_count": null,
   "metadata": {},
   "outputs": [],
   "source": [
    "ds = client_B.fetch() # Download flight\n",
    "\n",
    "# Convert it to pandas dataframe and continue to process it locally\n",
    "df = ds.to_pandas()\n",
    "print(\"Original num of rows: \", len(df))\n",
    "\n",
    "dropped = df.dropna()\n",
    "print(\"Num of rows without nulls: \", len(dropped))\n",
    "\n",
    "dropped[\"case_month\"]"
   ]
  },
  {
   "cell_type": "markdown",
   "metadata": {},
   "source": [
    "As you can see, there is a lot of flexibility involved in processing local and shared datasets.<br>"
   ]
  },
  {
   "cell_type": "markdown",
   "metadata": {},
   "source": [
    "# Actions\n",
    "\n",
    "**Apache Arrow Flight** provides another interface to interact with Flights, so-called **Actions**. <br>\n",
    "Actions are application-specific. Our server provides Actions for **saving, deleting, clearing flights** and **shutting down the server**. <br>\n",
    "\n",
    "Any client can send actions as well as accessing the flights as shown above. However here we are using a new client **(client_C)**."
   ]
  },
  {
   "cell_type": "code",
   "execution_count": null,
   "metadata": {},
   "outputs": [],
   "source": [
    "client_C = RemoteDataset()\n",
    "client_C.list_actions()"
   ]
  },
  {
   "cell_type": "code",
   "execution_count": null,
   "metadata": {},
   "outputs": [],
   "source": [
    "client_C.action(type=\"save\", body=\"1 my_new_dataset\") # Request server to save Flight 1 as \"my_new_dataset.parquet\")"
   ]
  },
  {
   "cell_type": "code",
   "execution_count": null,
   "metadata": {},
   "outputs": [],
   "source": [
    "client_C.action(\"clear\") # Clear all flights (not affecting .parquet files)"
   ]
  },
  {
   "cell_type": "code",
   "execution_count": null,
   "metadata": {},
   "outputs": [],
   "source": [
    "client_C.list_flights()"
   ]
  },
  {
   "cell_type": "markdown",
   "metadata": {},
   "source": [
    "Let's see what happens if our server crashes or reboots gracefully."
   ]
  },
  {
   "cell_type": "code",
   "execution_count": null,
   "metadata": {},
   "outputs": [],
   "source": [
    "client_C.action(\"shutdown\")\n",
    "time.sleep(5) # Wait for server to properly shutdown before running other cells"
   ]
  },
  {
   "cell_type": "code",
   "execution_count": null,
   "metadata": {},
   "outputs": [],
   "source": [
    "# Restart the server\n",
    "server_process = subprocess.Popen([\"python3\",\"server.py\",\"--host\", SERVER_IP,\"--port\", SERVER_PORT])\n",
    "pid = server_process.pid\n",
    "\n",
    "time.sleep(2) # Wait for server to boot\n",
    "client_D = RemoteDataset()"
   ]
  },
  {
   "cell_type": "markdown",
   "metadata": {},
   "source": [
    "You should see that the server recovered the saved datasets. <br>\n",
    "As a final step in this tutorial, we can delete them via the \"delete\" actions. The corresponding .parquet files will also be wiped from the server."
   ]
  },
  {
   "cell_type": "code",
   "execution_count": null,
   "metadata": {},
   "outputs": [],
   "source": [
    "client_D.list_actions()\n",
    "client_D.action(\"delete\", \"0\")\n",
    "client_D.action(\"delete\", \"1\")\n",
    "\n",
    "client_D.list_flights()"
   ]
  },
  {
   "cell_type": "markdown",
   "metadata": {},
   "source": [
    "Note that, the IDs did not disappear and were not rearranged, inorder to maintain consistency throughout the runtime of the server."
   ]
  },
  {
   "cell_type": "markdown",
   "metadata": {},
   "source": [
    "## Conclusion\n",
    "In this tutorial, we have examined how **Remote Arrow** can help to outsource the burden of computation, storage and shared access of data on a single server. <br>\n",
    "Though still in its prototype phase, it can offer tremendous flexibility for managing shared tabular data.<br>\n",
    "This effect becomes more evident when datasets are used in a network of heterogenous applications that work in different languages, <br>\n",
    "even more so when the shared data is extremely large and/or the clients low in computational prowess.\n",
    "\n",
    "Another aspect, we have not discussed in-depth yet is the remarkable boost in transmission speed, that has been benchmarked by *Ahmad et al.* [4]. <br>\n",
    "Their publication cites that *\"Flight is able to achieve up to **6000 MB/s and 4800 MB/s throughput**\"* <br>\n",
    "and companies like **Dremio** that use Arrow Flight **perform 20x and 30x better** compared to traditional connection methods. <br>\n",
    "That means Arrow Flight becomes an even better choice for applications that require long-haul communication over the internet. <br>\n",
    "\n",
    "Regardless of the use-case, hopefully you have learned that **Arrow** especially in combination with **Arrow Flight** provides a highly performant framework for working with big data.\n"
   ]
  }
 ],
 "metadata": {
  "interpreter": {
   "hash": "aee8b7b246df8f9039afb4144a1f6fd8d2ca17a180786b69acc140d282b71a49"
  },
  "kernelspec": {
   "display_name": "Python 3 (ipykernel)",
   "language": "python",
   "name": "python3"
  },
  "language_info": {
   "codemirror_mode": {
    "name": "ipython",
    "version": 3
   },
   "file_extension": ".py",
   "mimetype": "text/x-python",
   "name": "python",
   "nbconvert_exporter": "python",
   "pygments_lexer": "ipython3",
   "version": "3.10.8"
  }
 },
 "nbformat": 4,
 "nbformat_minor": 4
}
