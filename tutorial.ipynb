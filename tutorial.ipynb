{
 "cells": [
  {
   "cell_type": "markdown",
   "metadata": {},
   "source": [
    "# Tutorial - Remote Arrow\n",
    "\n",
    "This notebook serves as an interactive tutorial (and documentation) to **Remote Arrow**.\n",
    "More broadly it introduces you to **Apache Arrow**, specifically pyArrow and **Apache Arrow Flight**.\n",
    "\n",
    "**Apache Arrow** is a language-independent columnar memory format for flat and hierarchical data. <br>\n",
    "\n",
    "**Apache Arrow Flight** is a framework for high-speed transmission of Apache Arrow Tables over a network.  <br>\n",
    "It achieves that by eliminating the overhead for (de)serialization of the data, as well as allowing parallel down and uploads of data chunks.<br>\n",
    "\n",
    "**RemoteArrow** is a custom-framework built on top of Apache Arrow Flight and aims to solve the problem of redundancy <br>\n",
    "and performance bottlenecks when handling shared and large dataset by outsourcing them to a centralized remote server. <br>\n",
    "In other words, it tries to reduce the cost of data transmission, query, computation and storage of shared data for big data / ML applications. <br>\n",
    "\n",
    "\n",
    "You can learn more by reading through the README and sources listed below:\n",
    "#### Sources:\n",
    "\n",
    "1. [Apache Arrow](https://arrow.apache.org/ \"Apache Arrow\")\n",
    "2. [Introducing Apache Arrow Flight](https://arrow.apache.org/blog/2019/10/13/introducing-arrow-flight/ \"Introducing Apache Arrow Flight\") \n",
    "3. [Apache Arrow Flight API](https://arrow.apache.org/docs/format/Flight.html \"Apache Arrow Flight API\") \n",
    "4. [Benchmarking Apache Arrow Flight (Tanveer Ahmad, Zaid Al Ars and H. Peter Hofstee)](https://arxiv.org/pdf/2204.03032.pdf) \n"
   ]
  },
  {
   "cell_type": "markdown",
   "metadata": {},
   "source": [
    "## Arrow Table\n",
    "Let's take a look at **the Arrow Table** format by loading a CSV file:"
   ]
  },
  {
   "cell_type": "code",
   "execution_count": 1,
   "metadata": {},
   "outputs": [
    {
     "name": "stdout",
     "output_type": "stream",
     "text": [
      "case_month: string\n",
      "res_state: string\n",
      "state_fips_code: int64\n",
      "res_county: string\n",
      "county_fips_code: int64\n",
      "age_group: string\n",
      "sex: string\n",
      "race: string\n",
      "ethnicity: string\n",
      "case_positive_specimen_interval: int64\n",
      "case_onset_interval: int64\n",
      "process: string\n",
      "exposure_yn: string\n",
      "current_status: string\n",
      "symptom_status: string\n",
      "hosp_yn: string\n",
      "icu_yn: string\n",
      "death_yn: string\n",
      "underlying_conditions_yn: string\n"
     ]
    }
   ],
   "source": [
    "import pyarrow as pa\n",
    "import pyarrow.csv as csv\n",
    "\n",
    "table = csv.read_csv('hawaii_covid.csv')\n",
    "print(table.schema)"
   ]
  },
  {
   "cell_type": "markdown",
   "metadata": {},
   "source": [
    "Arrow Tables support a variety of common functions for handling tabular data, such as **join**, **sort_by**, **group_by**, **drop**, **select** or **take**:"
   ]
  },
  {
   "cell_type": "code",
   "execution_count": 2,
   "metadata": {},
   "outputs": [
    {
     "data": {
      "text/plain": [
       "pyarrow.Table\n",
       "age_group: string\n",
       "----\n",
       "age_group: [[\"18 to 49 years\",\"0 - 17 years\",\"18 to 49 years\",\"18 to 49 years\",\"18 to 49 years\",...,\"50 to 64 years\",\"18 to 49 years\",\"65+ years\",\"18 to 49 years\",\"50 to 64 years\"],[\"18 to 49 years\",\"65+ years\",\"18 to 49 years\",\"50 to 64 years\",\"18 to 49 years\",...,\"18 to 49 years\",\"0 - 17 years\",\"0 - 17 years\",\"18 to 49 years\",\"18 to 49 years\"],...,[\"50 to 64 years\",\"50 to 64 years\",\"50 to 64 years\",\"50 to 64 years\",\"50 to 64 years\",...,\"18 to 49 years\",\"18 to 49 years\",\"18 to 49 years\",\"18 to 49 years\",\"18 to 49 years\"],[\"18 to 49 years\",\"18 to 49 years\",\"18 to 49 years\",\"18 to 49 years\",\"18 to 49 years\",...,\"50 to 64 years\",\"50 to 64 years\",\"50 to 64 years\",\"50 to 64 years\",\"50 to 64 years\"]]"
      ]
     },
     "execution_count": 2,
     "metadata": {},
     "output_type": "execute_result"
    }
   ],
   "source": [
    "table.select([5]) # Get column at index 5"
   ]
  },
  {
   "cell_type": "code",
   "execution_count": 3,
   "metadata": {},
   "outputs": [
    {
     "data": {
      "text/plain": [
       "199550"
      ]
     },
     "execution_count": 3,
     "metadata": {},
     "output_type": "execute_result"
    }
   ],
   "source": [
    "table.num_rows"
   ]
  },
  {
   "cell_type": "markdown",
   "metadata": {},
   "source": [
    "If you're familiar with **pandas** and/or **SQL** it may come to you as a relieve that **Arrow Table** provides similar methods and APIs. <br>\n",
    "Also you can always, convert Arrow Tables into pandas dataframes."
   ]
  },
  {
   "cell_type": "code",
   "execution_count": 4,
   "metadata": {},
   "outputs": [
    {
     "data": {
      "text/html": [
       "<div>\n",
       "<style scoped>\n",
       "    .dataframe tbody tr th:only-of-type {\n",
       "        vertical-align: middle;\n",
       "    }\n",
       "\n",
       "    .dataframe tbody tr th {\n",
       "        vertical-align: top;\n",
       "    }\n",
       "\n",
       "    .dataframe thead th {\n",
       "        text-align: right;\n",
       "    }\n",
       "</style>\n",
       "<table border=\"1\" class=\"dataframe\">\n",
       "  <thead>\n",
       "    <tr style=\"text-align: right;\">\n",
       "      <th></th>\n",
       "      <th>case_month</th>\n",
       "      <th>res_state</th>\n",
       "      <th>state_fips_code</th>\n",
       "      <th>res_county</th>\n",
       "      <th>county_fips_code</th>\n",
       "      <th>age_group</th>\n",
       "      <th>sex</th>\n",
       "      <th>race</th>\n",
       "      <th>ethnicity</th>\n",
       "      <th>case_positive_specimen_interval</th>\n",
       "      <th>case_onset_interval</th>\n",
       "      <th>process</th>\n",
       "      <th>exposure_yn</th>\n",
       "      <th>current_status</th>\n",
       "      <th>symptom_status</th>\n",
       "      <th>hosp_yn</th>\n",
       "      <th>icu_yn</th>\n",
       "      <th>death_yn</th>\n",
       "      <th>underlying_conditions_yn</th>\n",
       "    </tr>\n",
       "  </thead>\n",
       "  <tbody>\n",
       "    <tr>\n",
       "      <th>0</th>\n",
       "      <td>2022-02</td>\n",
       "      <td>HI</td>\n",
       "      <td>15</td>\n",
       "      <td>HONOLULU</td>\n",
       "      <td>15003.0</td>\n",
       "      <td>18 to 49 years</td>\n",
       "      <td>Female</td>\n",
       "      <td>Asian</td>\n",
       "      <td>Hispanic/Latino</td>\n",
       "      <td>NaN</td>\n",
       "      <td>NaN</td>\n",
       "      <td>Missing</td>\n",
       "      <td>Missing</td>\n",
       "      <td>Laboratory-confirmed case</td>\n",
       "      <td>Missing</td>\n",
       "      <td>Missing</td>\n",
       "      <td>Missing</td>\n",
       "      <td>Missing</td>\n",
       "      <td></td>\n",
       "    </tr>\n",
       "    <tr>\n",
       "      <th>1</th>\n",
       "      <td>2022-01</td>\n",
       "      <td>HI</td>\n",
       "      <td>15</td>\n",
       "      <td>MAUI</td>\n",
       "      <td>15009.0</td>\n",
       "      <td>0 - 17 years</td>\n",
       "      <td>Female</td>\n",
       "      <td>Multiple/Other</td>\n",
       "      <td>Hispanic/Latino</td>\n",
       "      <td>NaN</td>\n",
       "      <td>NaN</td>\n",
       "      <td>Missing</td>\n",
       "      <td>Missing</td>\n",
       "      <td>Laboratory-confirmed case</td>\n",
       "      <td>Missing</td>\n",
       "      <td>Missing</td>\n",
       "      <td>Missing</td>\n",
       "      <td>Missing</td>\n",
       "      <td></td>\n",
       "    </tr>\n",
       "    <tr>\n",
       "      <th>2</th>\n",
       "      <td>2021-12</td>\n",
       "      <td>HI</td>\n",
       "      <td>15</td>\n",
       "      <td>NA</td>\n",
       "      <td>NaN</td>\n",
       "      <td>18 to 49 years</td>\n",
       "      <td>Female</td>\n",
       "      <td>Asian</td>\n",
       "      <td>NA</td>\n",
       "      <td>NaN</td>\n",
       "      <td>NaN</td>\n",
       "      <td>Missing</td>\n",
       "      <td>Missing</td>\n",
       "      <td>Laboratory-confirmed case</td>\n",
       "      <td>Missing</td>\n",
       "      <td>Missing</td>\n",
       "      <td>Missing</td>\n",
       "      <td>Missing</td>\n",
       "      <td></td>\n",
       "    </tr>\n",
       "  </tbody>\n",
       "</table>\n",
       "</div>"
      ],
      "text/plain": [
       "  case_month res_state  state_fips_code res_county  county_fips_code  \\\n",
       "0    2022-02        HI               15   HONOLULU           15003.0   \n",
       "1    2022-01        HI               15       MAUI           15009.0   \n",
       "2    2021-12        HI               15         NA               NaN   \n",
       "\n",
       "        age_group     sex            race        ethnicity  \\\n",
       "0  18 to 49 years  Female           Asian  Hispanic/Latino   \n",
       "1    0 - 17 years  Female  Multiple/Other  Hispanic/Latino   \n",
       "2  18 to 49 years  Female           Asian               NA   \n",
       "\n",
       "   case_positive_specimen_interval  case_onset_interval  process exposure_yn  \\\n",
       "0                              NaN                  NaN  Missing     Missing   \n",
       "1                              NaN                  NaN  Missing     Missing   \n",
       "2                              NaN                  NaN  Missing     Missing   \n",
       "\n",
       "              current_status symptom_status  hosp_yn   icu_yn death_yn  \\\n",
       "0  Laboratory-confirmed case        Missing  Missing  Missing  Missing   \n",
       "1  Laboratory-confirmed case        Missing  Missing  Missing  Missing   \n",
       "2  Laboratory-confirmed case        Missing  Missing  Missing  Missing   \n",
       "\n",
       "  underlying_conditions_yn  \n",
       "0                           \n",
       "1                           \n",
       "2                           "
      ]
     },
     "execution_count": 4,
     "metadata": {},
     "output_type": "execute_result"
    }
   ],
   "source": [
    "table.take([0, 1, 2]).to_pandas() # Get row 0, 1, and 2 and conver to pandas df"
   ]
  },
  {
   "cell_type": "markdown",
   "metadata": {},
   "source": [
    "So far, the data and queries have only been handled locally. <br> \n",
    "Let's see how we can make them accessible to other clients."
   ]
  },
  {
   "cell_type": "markdown",
   "metadata": {},
   "source": [
    "## Starting the server\n",
    "Remote Arrow uses a centralized server in order to handle datasets and exposes a set of commands for uploads, downloads, queries to all clients in the network. <br>\n",
    "The API is built on top of gRPC and language agnostic. That is, you can develop clients in any language <br>\n",
    "or through any application as long as it follows the **Apache Arrow Flight API** [4]. <br>\n",
    "\n",
    "In this tutorial, we are going to use Python to demonstrate the client and server interactions.\n",
    "Let's start the server."
   ]
  },
  {
   "cell_type": "code",
   "execution_count": 5,
   "metadata": {},
   "outputs": [],
   "source": [
    "import subprocess\n",
    "import time\n",
    "\n",
    "SERVER_IP = \"localhost\"\n",
    "SERVER_PORT = \"5005\"\n",
    "\n",
    "server_process = subprocess.Popen([\"python3\",\"server.py\",\"--host\", SERVER_IP,\"--port\", SERVER_PORT])\n",
    "pid = server_process.pid\n",
    "time.sleep(2) # Wait for server to boot before running other cells"
   ]
  },
  {
   "cell_type": "markdown",
   "metadata": {},
   "source": [
    "The server is running in the background (at localhost:5005) as long as the notebook is active. <br>\n",
    "Of course, you can also run it in a separate terminal if you want to read the console output or change the host and port:\n",
    "\n",
    "`python3 server --host <HOST> --port <PORT>`\n",
    "\n",
    "For now, let's connect a client to the server and upload a local file:"
   ]
  },
  {
   "cell_type": "code",
   "execution_count": 6,
   "metadata": {},
   "outputs": [
    {
     "name": "stdout",
     "output_type": "stream",
     "text": [
      "Created RemoteDataset 'hawaii_covid' on server: localhost:5005\n",
      "Total rows:  199550\n"
     ]
    }
   ],
   "source": [
    "from RemoteArrow import RemoteDataset\n",
    "client_A = RemoteDataset(\"hawaii_covid.csv\", hostname=SERVER_IP+\":\"+SERVER_PORT)"
   ]
  },
  {
   "cell_type": "markdown",
   "metadata": {},
   "source": [
    "Here, we have instantiated a **RemoteDataset** object with path to the local CSV file. <br>\n",
    "Under the hood, our object (**client_A**) converted that file into an **Arrow Table** and uploaded it to the server.\n",
    "\n",
    "The dataset now resides on the server and is available to all clients as a **Flight** with **ID 0**. <br>"
   ]
  },
  {
   "cell_type": "code",
   "execution_count": 7,
   "metadata": {},
   "outputs": [
    {
     "name": "stdout",
     "output_type": "stream",
     "text": [
      "\n",
      "===== Flights======\n",
      "[ID]\t[TYPE]\t[DESCRIPTION]\n",
      "0 \tFILE\thawaii_covid\n",
      "\n"
     ]
    }
   ],
   "source": [
    "client_A.list_flights()"
   ]
  },
  {
   "cell_type": "markdown",
   "metadata": {},
   "source": [
    "You will also find that the server has stored that file in the */datasets* subdirectory in **.parquet** format. <br>\n",
    "\n",
    "Instantiating **client_A** as a **RemoteDataset** also overrides the **Arrow Table methods** with corresponding RPC calls to our server. <br>\n",
    "In other words, calling methods like **take**, or **select** as above, will not locally compute the query, but command the server to do the query for us, and return the result."
   ]
  },
  {
   "cell_type": "code",
   "execution_count": 8,
   "metadata": {},
   "outputs": [
    {
     "data": {
      "text/html": [
       "<div>\n",
       "<style scoped>\n",
       "    .dataframe tbody tr th:only-of-type {\n",
       "        vertical-align: middle;\n",
       "    }\n",
       "\n",
       "    .dataframe tbody tr th {\n",
       "        vertical-align: top;\n",
       "    }\n",
       "\n",
       "    .dataframe thead th {\n",
       "        text-align: right;\n",
       "    }\n",
       "</style>\n",
       "<table border=\"1\" class=\"dataframe\">\n",
       "  <thead>\n",
       "    <tr style=\"text-align: right;\">\n",
       "      <th></th>\n",
       "      <th>case_month</th>\n",
       "      <th>res_state</th>\n",
       "      <th>state_fips_code</th>\n",
       "      <th>res_county</th>\n",
       "      <th>county_fips_code</th>\n",
       "      <th>age_group</th>\n",
       "      <th>sex</th>\n",
       "      <th>race</th>\n",
       "      <th>ethnicity</th>\n",
       "      <th>case_positive_specimen_interval</th>\n",
       "      <th>case_onset_interval</th>\n",
       "      <th>process</th>\n",
       "      <th>exposure_yn</th>\n",
       "      <th>current_status</th>\n",
       "      <th>symptom_status</th>\n",
       "      <th>hosp_yn</th>\n",
       "      <th>icu_yn</th>\n",
       "      <th>death_yn</th>\n",
       "      <th>underlying_conditions_yn</th>\n",
       "    </tr>\n",
       "  </thead>\n",
       "  <tbody>\n",
       "    <tr>\n",
       "      <th>0</th>\n",
       "      <td>2022-02</td>\n",
       "      <td>HI</td>\n",
       "      <td>15</td>\n",
       "      <td>HONOLULU</td>\n",
       "      <td>15003.0</td>\n",
       "      <td>18 to 49 years</td>\n",
       "      <td>Female</td>\n",
       "      <td>Asian</td>\n",
       "      <td>Hispanic/Latino</td>\n",
       "      <td>NaN</td>\n",
       "      <td>NaN</td>\n",
       "      <td>Missing</td>\n",
       "      <td>Missing</td>\n",
       "      <td>Laboratory-confirmed case</td>\n",
       "      <td>Missing</td>\n",
       "      <td>Missing</td>\n",
       "      <td>Missing</td>\n",
       "      <td>Missing</td>\n",
       "      <td></td>\n",
       "    </tr>\n",
       "    <tr>\n",
       "      <th>1</th>\n",
       "      <td>2022-01</td>\n",
       "      <td>HI</td>\n",
       "      <td>15</td>\n",
       "      <td>MAUI</td>\n",
       "      <td>15009.0</td>\n",
       "      <td>0 - 17 years</td>\n",
       "      <td>Female</td>\n",
       "      <td>Multiple/Other</td>\n",
       "      <td>Hispanic/Latino</td>\n",
       "      <td>NaN</td>\n",
       "      <td>NaN</td>\n",
       "      <td>Missing</td>\n",
       "      <td>Missing</td>\n",
       "      <td>Laboratory-confirmed case</td>\n",
       "      <td>Missing</td>\n",
       "      <td>Missing</td>\n",
       "      <td>Missing</td>\n",
       "      <td>Missing</td>\n",
       "      <td></td>\n",
       "    </tr>\n",
       "    <tr>\n",
       "      <th>2</th>\n",
       "      <td>2021-12</td>\n",
       "      <td>HI</td>\n",
       "      <td>15</td>\n",
       "      <td>NA</td>\n",
       "      <td>NaN</td>\n",
       "      <td>18 to 49 years</td>\n",
       "      <td>Female</td>\n",
       "      <td>Asian</td>\n",
       "      <td>NA</td>\n",
       "      <td>NaN</td>\n",
       "      <td>NaN</td>\n",
       "      <td>Missing</td>\n",
       "      <td>Missing</td>\n",
       "      <td>Laboratory-confirmed case</td>\n",
       "      <td>Missing</td>\n",
       "      <td>Missing</td>\n",
       "      <td>Missing</td>\n",
       "      <td>Missing</td>\n",
       "      <td></td>\n",
       "    </tr>\n",
       "  </tbody>\n",
       "</table>\n",
       "</div>"
      ],
      "text/plain": [
       "  case_month res_state  state_fips_code res_county  county_fips_code  \\\n",
       "0    2022-02        HI               15   HONOLULU           15003.0   \n",
       "1    2022-01        HI               15       MAUI           15009.0   \n",
       "2    2021-12        HI               15         NA               NaN   \n",
       "\n",
       "        age_group     sex            race        ethnicity  \\\n",
       "0  18 to 49 years  Female           Asian  Hispanic/Latino   \n",
       "1    0 - 17 years  Female  Multiple/Other  Hispanic/Latino   \n",
       "2  18 to 49 years  Female           Asian               NA   \n",
       "\n",
       "   case_positive_specimen_interval  case_onset_interval  process exposure_yn  \\\n",
       "0                              NaN                  NaN  Missing     Missing   \n",
       "1                              NaN                  NaN  Missing     Missing   \n",
       "2                              NaN                  NaN  Missing     Missing   \n",
       "\n",
       "              current_status symptom_status  hosp_yn   icu_yn death_yn  \\\n",
       "0  Laboratory-confirmed case        Missing  Missing  Missing  Missing   \n",
       "1  Laboratory-confirmed case        Missing  Missing  Missing  Missing   \n",
       "2  Laboratory-confirmed case        Missing  Missing  Missing  Missing   \n",
       "\n",
       "  underlying_conditions_yn  \n",
       "0                           \n",
       "1                           \n",
       "2                           "
      ]
     },
     "execution_count": 8,
     "metadata": {},
     "output_type": "execute_result"
    }
   ],
   "source": [
    "query_result = client_A.take([0,1,2]) # Will be executed on the server\n",
    "query_result.to_pandas()"
   ]
  },
  {
   "cell_type": "code",
   "execution_count": 9,
   "metadata": {},
   "outputs": [
    {
     "name": "stdout",
     "output_type": "stream",
     "text": [
      "\n",
      "===== Flights======\n",
      "[ID]\t[TYPE]\t[DESCRIPTION]\n",
      "0 \tFILE\thawaii_covid\n",
      "1 \tCMD\t <Flight 0>.take([0, 1, 2])\n",
      "\n"
     ]
    }
   ],
   "source": [
    "# Query results are made available as new Flights\n",
    "client_A.list_flights()"
   ]
  },
  {
   "cell_type": "markdown",
   "metadata": {},
   "source": [
    "Now, let's pretend to be another client (**client_B**) and connect to one of the flights."
   ]
  },
  {
   "cell_type": "code",
   "execution_count": 10,
   "metadata": {},
   "outputs": [
    {
     "name": "stdout",
     "output_type": "stream",
     "text": [
      "No file path or flight_id given. Connect to one of the available flights:\n",
      "\n",
      "===== Flights======\n",
      "[ID]\t[TYPE]\t[DESCRIPTION]\n",
      "0 \tFILE\thawaii_covid\n",
      "1 \tCMD\t <Flight 0>.take([0, 1, 2])\n",
      "\n"
     ]
    }
   ],
   "source": [
    "client_B = RemoteDataset()"
   ]
  },
  {
   "cell_type": "code",
   "execution_count": 11,
   "metadata": {},
   "outputs": [
    {
     "name": "stdout",
     "output_type": "stream",
     "text": [
      "Inspecting Flight  0\n",
      "0 \tFILE\thawaii_covid\n",
      "Total rows: 199550\n",
      "Total bytes: 42030808\n",
      "Number of endpoints: 1\n",
      "Schema:\n",
      "case_month: string\n",
      "res_state: string\n",
      "state_fips_code: int64\n",
      "res_county: string\n",
      "county_fips_code: int64\n",
      "age_group: string\n",
      "sex: string\n",
      "race: string\n",
      "ethnicity: string\n",
      "case_positive_specimen_interval: int64\n",
      "case_onset_interval: int64\n",
      "process: string\n",
      "exposure_yn: string\n",
      "current_status: string\n",
      "symptom_status: string\n",
      "hosp_yn: string\n",
      "icu_yn: string\n",
      "death_yn: string\n",
      "underlying_conditions_yn: string\n",
      "---\n",
      "Successfully connected to flight  0\n"
     ]
    }
   ],
   "source": [
    "client_B.inspect(0)\n",
    "client_B.connect(0)"
   ]
  },
  {
   "cell_type": "code",
   "execution_count": 12,
   "metadata": {},
   "outputs": [
    {
     "data": {
      "text/html": [
       "<div>\n",
       "<style scoped>\n",
       "    .dataframe tbody tr th:only-of-type {\n",
       "        vertical-align: middle;\n",
       "    }\n",
       "\n",
       "    .dataframe tbody tr th {\n",
       "        vertical-align: top;\n",
       "    }\n",
       "\n",
       "    .dataframe thead th {\n",
       "        text-align: right;\n",
       "    }\n",
       "</style>\n",
       "<table border=\"1\" class=\"dataframe\">\n",
       "  <thead>\n",
       "    <tr style=\"text-align: right;\">\n",
       "      <th></th>\n",
       "      <th>case_month</th>\n",
       "      <th>res_state</th>\n",
       "      <th>state_fips_code</th>\n",
       "      <th>res_county</th>\n",
       "      <th>county_fips_code</th>\n",
       "      <th>age_group</th>\n",
       "      <th>sex</th>\n",
       "      <th>race</th>\n",
       "      <th>ethnicity</th>\n",
       "      <th>case_positive_specimen_interval</th>\n",
       "      <th>case_onset_interval</th>\n",
       "      <th>process</th>\n",
       "      <th>exposure_yn</th>\n",
       "      <th>current_status</th>\n",
       "      <th>symptom_status</th>\n",
       "      <th>hosp_yn</th>\n",
       "      <th>icu_yn</th>\n",
       "      <th>death_yn</th>\n",
       "      <th>underlying_conditions_yn</th>\n",
       "    </tr>\n",
       "  </thead>\n",
       "  <tbody>\n",
       "    <tr>\n",
       "      <th>0</th>\n",
       "      <td>2022-02</td>\n",
       "      <td>HI</td>\n",
       "      <td>15</td>\n",
       "      <td>HONOLULU</td>\n",
       "      <td>15003.0</td>\n",
       "      <td>18 to 49 years</td>\n",
       "      <td>Female</td>\n",
       "      <td>Asian</td>\n",
       "      <td>Hispanic/Latino</td>\n",
       "      <td>NaN</td>\n",
       "      <td>NaN</td>\n",
       "      <td>Missing</td>\n",
       "      <td>Missing</td>\n",
       "      <td>Laboratory-confirmed case</td>\n",
       "      <td>Missing</td>\n",
       "      <td>Missing</td>\n",
       "      <td>Missing</td>\n",
       "      <td>Missing</td>\n",
       "      <td></td>\n",
       "    </tr>\n",
       "    <tr>\n",
       "      <th>1</th>\n",
       "      <td>2022-01</td>\n",
       "      <td>HI</td>\n",
       "      <td>15</td>\n",
       "      <td>MAUI</td>\n",
       "      <td>15009.0</td>\n",
       "      <td>0 - 17 years</td>\n",
       "      <td>Female</td>\n",
       "      <td>Multiple/Other</td>\n",
       "      <td>Hispanic/Latino</td>\n",
       "      <td>NaN</td>\n",
       "      <td>NaN</td>\n",
       "      <td>Missing</td>\n",
       "      <td>Missing</td>\n",
       "      <td>Laboratory-confirmed case</td>\n",
       "      <td>Missing</td>\n",
       "      <td>Missing</td>\n",
       "      <td>Missing</td>\n",
       "      <td>Missing</td>\n",
       "      <td></td>\n",
       "    </tr>\n",
       "    <tr>\n",
       "      <th>2</th>\n",
       "      <td>2021-12</td>\n",
       "      <td>HI</td>\n",
       "      <td>15</td>\n",
       "      <td>NA</td>\n",
       "      <td>NaN</td>\n",
       "      <td>18 to 49 years</td>\n",
       "      <td>Female</td>\n",
       "      <td>Asian</td>\n",
       "      <td>NA</td>\n",
       "      <td>NaN</td>\n",
       "      <td>NaN</td>\n",
       "      <td>Missing</td>\n",
       "      <td>Missing</td>\n",
       "      <td>Laboratory-confirmed case</td>\n",
       "      <td>Missing</td>\n",
       "      <td>Missing</td>\n",
       "      <td>Missing</td>\n",
       "      <td>Missing</td>\n",
       "      <td></td>\n",
       "    </tr>\n",
       "    <tr>\n",
       "      <th>3</th>\n",
       "      <td>2022-01</td>\n",
       "      <td>HI</td>\n",
       "      <td>15</td>\n",
       "      <td>HAWAII</td>\n",
       "      <td>15001.0</td>\n",
       "      <td>18 to 49 years</td>\n",
       "      <td>Female</td>\n",
       "      <td>Multiple/Other</td>\n",
       "      <td>Hispanic/Latino</td>\n",
       "      <td>NaN</td>\n",
       "      <td>0.0</td>\n",
       "      <td>Missing</td>\n",
       "      <td>Missing</td>\n",
       "      <td>Laboratory-confirmed case</td>\n",
       "      <td>Symptomatic</td>\n",
       "      <td>Missing</td>\n",
       "      <td>Missing</td>\n",
       "      <td>Missing</td>\n",
       "      <td></td>\n",
       "    </tr>\n",
       "    <tr>\n",
       "      <th>4</th>\n",
       "      <td>2022-02</td>\n",
       "      <td>HI</td>\n",
       "      <td>15</td>\n",
       "      <td>HONOLULU</td>\n",
       "      <td>15003.0</td>\n",
       "      <td>18 to 49 years</td>\n",
       "      <td>Female</td>\n",
       "      <td>Asian</td>\n",
       "      <td>Hispanic/Latino</td>\n",
       "      <td>NaN</td>\n",
       "      <td>NaN</td>\n",
       "      <td>Missing</td>\n",
       "      <td>Missing</td>\n",
       "      <td>Laboratory-confirmed case</td>\n",
       "      <td>Missing</td>\n",
       "      <td>Missing</td>\n",
       "      <td>Missing</td>\n",
       "      <td>Missing</td>\n",
       "      <td></td>\n",
       "    </tr>\n",
       "    <tr>\n",
       "      <th>5</th>\n",
       "      <td>2022-01</td>\n",
       "      <td>HI</td>\n",
       "      <td>15</td>\n",
       "      <td>MAUI</td>\n",
       "      <td>15009.0</td>\n",
       "      <td>0 - 17 years</td>\n",
       "      <td>Female</td>\n",
       "      <td>Multiple/Other</td>\n",
       "      <td>Hispanic/Latino</td>\n",
       "      <td>NaN</td>\n",
       "      <td>0.0</td>\n",
       "      <td>Missing</td>\n",
       "      <td>Missing</td>\n",
       "      <td>Laboratory-confirmed case</td>\n",
       "      <td>Symptomatic</td>\n",
       "      <td>Missing</td>\n",
       "      <td>Missing</td>\n",
       "      <td>Missing</td>\n",
       "      <td></td>\n",
       "    </tr>\n",
       "  </tbody>\n",
       "</table>\n",
       "</div>"
      ],
      "text/plain": [
       "  case_month res_state  state_fips_code res_county  county_fips_code  \\\n",
       "0    2022-02        HI               15   HONOLULU           15003.0   \n",
       "1    2022-01        HI               15       MAUI           15009.0   \n",
       "2    2021-12        HI               15         NA               NaN   \n",
       "3    2022-01        HI               15     HAWAII           15001.0   \n",
       "4    2022-02        HI               15   HONOLULU           15003.0   \n",
       "5    2022-01        HI               15       MAUI           15009.0   \n",
       "\n",
       "        age_group     sex            race        ethnicity  \\\n",
       "0  18 to 49 years  Female           Asian  Hispanic/Latino   \n",
       "1    0 - 17 years  Female  Multiple/Other  Hispanic/Latino   \n",
       "2  18 to 49 years  Female           Asian               NA   \n",
       "3  18 to 49 years  Female  Multiple/Other  Hispanic/Latino   \n",
       "4  18 to 49 years  Female           Asian  Hispanic/Latino   \n",
       "5    0 - 17 years  Female  Multiple/Other  Hispanic/Latino   \n",
       "\n",
       "   case_positive_specimen_interval  case_onset_interval  process exposure_yn  \\\n",
       "0                              NaN                  NaN  Missing     Missing   \n",
       "1                              NaN                  NaN  Missing     Missing   \n",
       "2                              NaN                  NaN  Missing     Missing   \n",
       "3                              NaN                  0.0  Missing     Missing   \n",
       "4                              NaN                  NaN  Missing     Missing   \n",
       "5                              NaN                  0.0  Missing     Missing   \n",
       "\n",
       "              current_status symptom_status  hosp_yn   icu_yn death_yn  \\\n",
       "0  Laboratory-confirmed case        Missing  Missing  Missing  Missing   \n",
       "1  Laboratory-confirmed case        Missing  Missing  Missing  Missing   \n",
       "2  Laboratory-confirmed case        Missing  Missing  Missing  Missing   \n",
       "3  Laboratory-confirmed case    Symptomatic  Missing  Missing  Missing   \n",
       "4  Laboratory-confirmed case        Missing  Missing  Missing  Missing   \n",
       "5  Laboratory-confirmed case    Symptomatic  Missing  Missing  Missing   \n",
       "\n",
       "  underlying_conditions_yn  \n",
       "0                           \n",
       "1                           \n",
       "2                           \n",
       "3                           \n",
       "4                           \n",
       "5                           "
      ]
     },
     "execution_count": 12,
     "metadata": {},
     "output_type": "execute_result"
    }
   ],
   "source": [
    "client_B.take([0,1,2,3,4,5]).to_pandas()"
   ]
  },
  {
   "cell_type": "markdown",
   "metadata": {},
   "source": [
    "Note that, **client_B** can now query against the original dataset (**hawaii_covid**) without downloading it. <br>\n",
    "If we wanted to do so, we can use **fetch()**."
   ]
  },
  {
   "cell_type": "code",
   "execution_count": 13,
   "metadata": {},
   "outputs": [
    {
     "name": "stdout",
     "output_type": "stream",
     "text": [
      "Original num of rows:  199550\n",
      "Num of rows without nulls:  7\n"
     ]
    },
    {
     "data": {
      "text/plain": [
       "56964     2021-12\n",
       "77199     2021-12\n",
       "83276     2021-10\n",
       "83618     2022-05\n",
       "97821     2021-08\n",
       "115257    2020-12\n",
       "121140    2021-12\n",
       "Name: case_month, dtype: object"
      ]
     },
     "execution_count": 13,
     "metadata": {},
     "output_type": "execute_result"
    }
   ],
   "source": [
    "ds = client_B.fetch() # Download flight\n",
    "\n",
    "# Convert it to pandas dataframe and continue to process it locally\n",
    "df = ds.to_pandas()\n",
    "print(\"Original num of rows: \", len(df))\n",
    "\n",
    "dropped = df.dropna()\n",
    "print(\"Num of rows without nulls: \", len(dropped))\n",
    "\n",
    "dropped[\"case_month\"]"
   ]
  },
  {
   "cell_type": "markdown",
   "metadata": {},
   "source": [
    "As you can see, there is a lot of flexibility involved in processing local and shared datasets.<br>"
   ]
  },
  {
   "cell_type": "markdown",
   "metadata": {},
   "source": [
    "# Actions\n",
    "\n",
    "**Apache Arrow Flight** provides another interface to interact with Flights, so-called **Actions**. <br>\n",
    "Actions are application-specific. Our server provides Actions for **saving, deleting, clearing flights** and **shutting down the server**. <br>\n",
    "\n",
    "Any client can send actions as well as accessing the flights as shown above. However here we are using a new client **(client_C)**."
   ]
  },
  {
   "cell_type": "code",
   "execution_count": 14,
   "metadata": {},
   "outputs": [
    {
     "name": "stdout",
     "output_type": "stream",
     "text": [
      "No file path or flight_id given. Connect to one of the available flights:\n",
      "\n",
      "===== Flights======\n",
      "[ID]\t[TYPE]\t[DESCRIPTION]\n",
      "0 \tFILE\thawaii_covid\n",
      "1 \tCMD\t <Flight 0>.take([0, 1, 2])\n",
      "2 \tCMD\t <Flight 0>.take([0, 1, 2, 3, 4, 5])\n",
      "\n",
      "\n",
      "Actions\n",
      "=======\n",
      "Type: clear\n",
      "Description: Clear (delete) all flights. Parquet files are not affected. \n",
      "---\n",
      "Type: shutdown\n",
      "Description: Shut down this server.\n",
      "---\n",
      "Type: delete\n",
      "Description: Delete a flight and corresponding .parquet file, if existing. [action.body == \"<FLIGHT_ID>\"]\n",
      "---\n",
      "Type: save\n",
      "Description: Save a flight as .parquet file. [action.body == \"<FLIGHT_ID> <FILENAME>\"]\n",
      "---\n"
     ]
    }
   ],
   "source": [
    "client_C = RemoteDataset()\n",
    "client_C.list_actions()"
   ]
  },
  {
   "cell_type": "code",
   "execution_count": 15,
   "metadata": {},
   "outputs": [
    {
     "name": "stdout",
     "output_type": "stream",
     "text": [
      "Running action save\n",
      "Got result:  Successfully saved flight 1 as my_new_dataset\n"
     ]
    }
   ],
   "source": [
    "client_C.action(type=\"save\", body=\"1 my_new_dataset\") # Request server to save Flight 1 as \"my_new_dataset.parquet\")"
   ]
  },
  {
   "cell_type": "code",
   "execution_count": 16,
   "metadata": {},
   "outputs": [
    {
     "name": "stdout",
     "output_type": "stream",
     "text": [
      "Running action clear\n",
      "Got result:  Successfully cleared all flights\n"
     ]
    }
   ],
   "source": [
    "client_C.action(\"clear\") # Clear all flights (not affecting .parquet files)"
   ]
  },
  {
   "cell_type": "code",
   "execution_count": 17,
   "metadata": {},
   "outputs": [
    {
     "name": "stdout",
     "output_type": "stream",
     "text": [
      "\n",
      "===== Flights======\n",
      "[ID]\t[TYPE]\t[DESCRIPTION]\n",
      "\n"
     ]
    }
   ],
   "source": [
    "client_C.list_flights()"
   ]
  },
  {
   "cell_type": "markdown",
   "metadata": {},
   "source": [
    "Let's see what happens if our server crashes or reboots gracefully."
   ]
  },
  {
   "cell_type": "code",
   "execution_count": 18,
   "metadata": {},
   "outputs": [
    {
     "name": "stdout",
     "output_type": "stream",
     "text": [
      "Running action shutdown\n",
      "Got result:  Shutdown!\n",
      "Server online:  grpc+tcp://localhost:5005\n",
      "Saved dataset as: /home/jovyan/datasets/hawaii_covid.parquet\n",
      "Saved dataset to: /home/jovyan/datasets/my_new_dataset.parquet\n",
      "Server is shutting down...\n"
     ]
    }
   ],
   "source": [
    "client_C.action(\"shutdown\")\n",
    "time.sleep(5) # Wait for server to properly shutdown before running other cells"
   ]
  },
  {
   "cell_type": "code",
   "execution_count": 19,
   "metadata": {},
   "outputs": [
    {
     "name": "stdout",
     "output_type": "stream",
     "text": [
      "No file path or flight_id given. Connect to one of the available flights:\n",
      "\n",
      "===== Flights======\n",
      "[ID]\t[TYPE]\t[DESCRIPTION]\n",
      "0 \tFILE\thawaii_covid\n",
      "1 \tFILE\tmy_new_dataset\n",
      "\n"
     ]
    }
   ],
   "source": [
    "# Restart the server\n",
    "server_process = subprocess.Popen([\"python3\",\"server.py\",\"--host\", SERVER_IP,\"--port\", SERVER_PORT])\n",
    "pid = server_process.pid\n",
    "\n",
    "time.sleep(2) # Wait for server to boot\n",
    "client_D = RemoteDataset()"
   ]
  },
  {
   "cell_type": "markdown",
   "metadata": {},
   "source": [
    "You should see that the server recovered the saved datasets. <br>\n",
    "As a final step in this tutorial, we can delete them via the \"delete\" actions. The corresponding .parquet files will also be wiped from the server."
   ]
  },
  {
   "cell_type": "code",
   "execution_count": 20,
   "metadata": {},
   "outputs": [
    {
     "name": "stdout",
     "output_type": "stream",
     "text": [
      "\n",
      "Actions\n",
      "=======\n",
      "Type: clear\n",
      "Description: Clear (delete) all flights. Parquet files are not affected. \n",
      "---\n",
      "Type: shutdown\n",
      "Description: Shut down this server.\n",
      "---\n",
      "Type: delete\n",
      "Description: Delete a flight and corresponding .parquet file, if existing. [action.body == \"<FLIGHT_ID>\"]\n",
      "---\n",
      "Type: save\n",
      "Description: Save a flight as .parquet file. [action.body == \"<FLIGHT_ID> <FILENAME>\"]\n",
      "---\n",
      "Running action delete\n",
      "Got result:  Successfully deleted flight 0\n",
      "Running action delete\n",
      "Got result:  Successfully deleted flight 1\n",
      "\n",
      "===== Flights======\n",
      "[ID]\t[TYPE]\t[DESCRIPTION]\n",
      "0 \tN/A\tThis flight has been deleted.\n",
      "1 \tN/A\tThis flight has been deleted.\n",
      "\n"
     ]
    }
   ],
   "source": [
    "client_D.list_actions()\n",
    "client_D.action(\"delete\", \"0\")\n",
    "client_D.action(\"delete\", \"1\")\n",
    "\n",
    "client_D.list_flights()"
   ]
  },
  {
   "cell_type": "markdown",
   "metadata": {},
   "source": [
    "Note that, the IDs did not disappear and were not rearranged, inorder to maintain consistency throughout the runtime of the server."
   ]
  },
  {
   "cell_type": "markdown",
   "metadata": {},
   "source": [
    "## Conclusion\n",
    "In this tutorial, we have examined how **Remote Arrow** can help to outsource the burden of computation, storage and shared access of data on a single server. <br>\n",
    "Though still in its prototype phase, it can offer tremendous flexibility for managing shared tabular data.<br>\n",
    "This effect becomes more evident when datasets are used in a network of heterogenous applications that work in different languages, <br>\n",
    "even more so when the shared data is extremely large and/or the clients low in computational prowess.\n",
    "\n",
    "Another aspect, we have not discussed in-depth yet is the remarkable boost in transmission speed, that has been benchmarked by *Ahmad et al.* [4]. <br>\n",
    "Their publication cites that *\"Flight is able to achieve up to **6000 MB/s and 4800 MB/s throughput**\"* <br>\n",
    "and companies like **Dremio** that use Arrow Flight **perform 20x and 30x better** compared to traditional connection methods. <br>\n",
    "That means Arrow Flight becomes an even better choice for applications that require long-haul communication over the internet. <br>\n",
    "\n",
    "Regardless of the use-case, hopefully you have learned that **Arrow** especially in combination with **Arrow Flight** provides a highly performant framework for working with big data.\n"
   ]
  }
 ],
 "metadata": {
  "interpreter": {
   "hash": "aee8b7b246df8f9039afb4144a1f6fd8d2ca17a180786b69acc140d282b71a49"
  },
  "kernelspec": {
   "display_name": "Python 3 (ipykernel)",
   "language": "python",
   "name": "python3"
  },
  "language_info": {
   "codemirror_mode": {
    "name": "ipython",
    "version": 3
   },
   "file_extension": ".py",
   "mimetype": "text/x-python",
   "name": "python",
   "nbconvert_exporter": "python",
   "pygments_lexer": "ipython3",
   "version": "3.10.8"
  }
 },
 "nbformat": 4,
 "nbformat_minor": 4
}
